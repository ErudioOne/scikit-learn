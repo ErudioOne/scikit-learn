{
 "cells": [
  {
   "cell_type": "markdown",
   "metadata": {},
   "source": [
    "![Erudio logo](img/erudio-logo-small.png)\n",
    "---\n",
    "![Sklearn logo](img/scikit-learn-logo-small.png)"
   ]
  },
  {
   "cell_type": "markdown",
   "metadata": {},
   "source": [
    "# Machine Learning with scikit-learn"
   ]
  },
  {
   "cell_type": "markdown",
   "metadata": {},
   "source": [
    "## Machine Learning Libraries\n",
    "\n",
    "There are [many software libraries available for machine\n",
    "learning](https://github.com/josephmisiti/awesome-machine-learning).  Some of\n",
    "them are listed below."
   ]
  },
  {
   "cell_type": "markdown",
   "metadata": {},
   "source": [
    "### For General Machine Learning\n",
    "\n",
    "- **[scikit-learn](http://scikit-learn.org/)**: Free Software (BSD License).\n",
    "The topic of this course\n",
    "- **[Spark MLlib](https://spark.apache.org/mllib/)**: Free Software (Apache-2.0 license).\n",
    "Spark engine's built-in machine learning library, with interfaces to Java,\n",
    "Scala, Python, and R. MLlib fits into Spark's APIs and interoperates with NumPy\n",
    "in Python and R libraries. You can use any Hadoop data source (e.g. HDFS, HBase,\n",
    "or local files), making it easy to plug into Hadoop workflows.\n",
    "- **[mlpack](https://www.mlpack.org/)**: Free Software (3-clause BSD license;\n",
    "Mozilla Public License v2.0; Boost Software License, version 1.0). \n",
    "A fast, flexible machine learning library, written in C++, that aims to provide\n",
    "fast, extensible implementations of cutting-edge machine learning algorithms.\n",
    "mlpack provides these algorithms as simple command-line programs, Python\n",
    "bindings, and C++ classes which can then be integrated into larger-scale machine\n",
    "learning solutions.\n",
    "- **[Accord.NET Framework](http://accord-framework.net/)**: Free Software (LGPLv2.1)\n",
    "The Accord.NET Framework is a .NET machine learning framework combined with\n",
    "audio and image processing libraries completely written in C#. It is a complete\n",
    "framework for building production-grade computer vision, computer audition,\n",
    "signal processing and statistics applications even for commercial use.\n",
    "- **[WEKA](https://www.cs.waikato.ac.nz/ml/weka/)**: Free Software (GPL).\n",
    "Data Mining Software in Java. Weka is a collection of machine learning\n",
    "algorithms for data mining tasks. It contains tools for data preparation,\n",
    "classification, regression, clustering, association rules mining, and\n",
    "visualization.\n",
    "- **[Shogun](https://github.com/shogun-toolbox/shogun)**: Free Software (BSD 3-clause).\n",
    "Shogun is among the oldest of machine learning libraries, but continues to be\n",
    "well maintained and optimized. Shogun was created in 1999 and written in C++.\n",
    "Via SWIG, Shogun can be used in Java, Python, C#, Ruby, R, Lua, Octave, and\n",
    "Matlab. Shogun is designed for unified large-scale learning for a broad range of\n",
    "feature types and learning settings, like classification, regression, or\n",
    "explorative data analysis.\n",
    "- **[XGBoost](https://xgboost.readthedocs.io)**: Free Software (Apache-2.0 license)\n",
    "XGBoost is an optimized distributed gradient boosting library designed to be\n",
    "highly efficient, flexible and portable. It implements machine learning\n",
    "algorithms under the Gradient Boosting framework. XGBoost provides a parallel\n",
    "tree boosting (also known as GBDT, GBM).  Portable for Python, R, Java, Scala,\n",
    "C++ and interfaces for integration with deep learning frameworks.\n",
    "- **[LightGBM](https://lightgbm.readthedocs.io)**: Free Software (MIT license)\n",
    "LightGBM is a boosting framework that implements gradient boosting decision tree\n",
    "algorithm and histogram-based algorithms which bucket continuous feature values\n",
    "into discrete bins. LightGBM frameworks are available for Python, R, Java,\n",
    "Scala, C++. It can run on Linux, Windows, MacOS and also on distributed\n",
    "environments for faster model training.\n",
    "\n"
   ]
  },
  {
   "cell_type": "markdown",
   "metadata": {},
   "source": [
    "### For Deep Learning\n",
    "\n",
    "* **[TensorFlow](https://www.tensorflow.org/)**: Free Software (Apache 2.0 open\n",
    "source license). TensorFlow is an open source software library for numerical\n",
    "computation using data flow graphs. TensorFlow implements what are called data\n",
    "flow graphs, where batches of data (\"tensors\") can be processed by a series of\n",
    "algorithms described by a graph. The movements of the data through the system\n",
    "are called \"flows\". Graphs can be assembled with C++ or Python and can be\n",
    "processed on CPUs or GPUs.\n",
    "* **[PyTensor](pytensor.readthedocs.io)**: Free Software (BSD License).\n",
    "PyTensor is a Python library that allows one to define, optimize/rewrite, and\n",
    "evaluate mathematical expressions, especially ones involving multi-dimensional\n",
    "arrays (e.g. numpy.ndarrays). Using PyTensor, it is possible to attain speeds\n",
    "rivaling hand-crafted C implementations for problems involving large amounts of\n",
    "data. PyTensor combines aspects of a computer algebra system (CAS) with aspects\n",
    "of an optimizing compiler. It can also generate customized code for multiple\n",
    "compiled languages and/or their Python-based interfaces, such as C, Numba, and\n",
    "JAX. PyTensor is a fork of Aesara, which is a fork of Theano.\n",
    "* **[Keras](https://keras.io/)**: Free Software (MIT License).\n",
    "Keras is a high-level neural networks API, written in Python and capable of\n",
    "running on top of JAX, TensorFlow, or PyTorch. It was developed with a focus on\n",
    "enabling fast experimentation. Keras allows for easy and fast prototyping\n",
    "(through user friendliness, modularity, and extensibility). It Supports both\n",
    "convolutional networks and recurrent networks, as well as combinations of the\n",
    "two. Runs seamlessly on CPU and GPU.\n",
    "* **[Caffe](http://caffe.berkeleyvision.org/)**: Free Software (BSD 2-Clause License). \n",
    "Caffe is a deep learning framework made with expression, speed, and modularity\n",
    "in mind. It is developed by Berkeley AI Research (BAIR) and by community\n",
    "contributors. Yangqing Jia created the project during his PhD at UC Berkeley.\n",
    "Bindings for Python and MATLAB are part of the library. Last commit from 4 years ago.\n",
    "* **[Chainer](https://chainer.org/)**: Free Software (MIT License).\n",
    "Chainer supports CUDA computation and runs on multiple GPUs with little effort.\n",
    "Chainer supports various network architectures including feed-forward nets,\n",
    "convnets, recurrent nets and recursive nets. It also supports per-batch\n",
    "architectures. Forward computation can include any control flow statements of\n",
    "Python without lacking the ability of backpropagation. (Development efforts are\n",
    "moving to PyTorch).\n",
    "* **[PyTorch](https://pytorch.org/)**: Free Software (custom BSD-ish license).\n",
    "Optimized tensor library for deep learning on GPUs and CPUs. Tensors are similar\n",
    "to numpy arrays and serve as PyTorch's primary data structures. It has a syntax\n",
    "similar to numpy, making it more intuitive and easier to learn than other deep\n",
    "learning frameworks. It supports dynamic computation graphs, meaning that the\n",
    "graph is defined on the fly rather than predefined, making it easier to debug.\n",
    "Torch project has been absorbed by Pytorch since2017.\n",
    "* **[Jax](https://jax.readthedocs.io/)**: Free Software (Apache 2.0 open source\n",
    "license). JAX is a Python library built on top of XLA, which is a\n",
    "domain-specific compiler for linear algebra that can accelerate machine learning\n",
    "computations. Provides composable transformations of Python + NumPy programs. It\n",
    "supports automatic differentiation for computing gradients. JAX functions are\n",
    "compiled and therefore can be just-in-time compiled and parallelized across\n",
    "multiple devices like GPUs and TPUs. JAX supports techniques like vectorization,\n",
    "parallelization, kernel fusion to make computation faster. Jax is a tensor\n",
    "library, while [Flax](https://flax.readthedocs.io) is a high-performance neural\n",
    "network library and ecosystem for JAX.\n"
   ]
  },
  {
   "cell_type": "markdown",
   "metadata": {},
   "source": [
    "### Cloud Focused\n",
    "\n",
    "* **[Amazon SageMaker](https://aws.amazon.com/sagemaker)**: Commercial. Amazon\n",
    "SageMaker provides fully managed instances running Jupyter notebooks for\n",
    "training data exploration and preprocessing. These notebooks are pre-loaded with\n",
    "CUDA and cuDNN drivers for popular deep learning platforms, Anaconda packages,\n",
    "and libraries for TensorFlow, Apache MXNet, Chainer, and PyTorch.\n",
    "* **[Google Cloud Machine Learning](https://cloud.google.com/products/ai/)**:\n",
    "Commercial. Google Cloud Machine Learning (ML) Engine is a managed service that\n",
    "allows developers and data scientists to build and bring machine learning models\n",
    "to production. Cloud ML Engine offers training and prediction services, which\n",
    "can be used together or individually. Cloud ML provides access to Python\n",
    "libraries TensorFow, Keras, XGBoost, and scikit-learn.\n",
    "* **[Azure Machine Learning](https://azure.microsoft.com/en-us/products/machine-learning)**: Commercial and proprietary.\n",
    "Azure Machine Learning is a cloud service for accelerating and managing the\n",
    "machine learning (ML) project lifecycle. ML professionals, data scientists, and\n",
    "engineers can use it in their daily workflows to train and deploy models and\n",
    "manage and manage machine learning operations (MLOps).  It can be used to build\n",
    "models or use models built on an open source platform such as PyTorch,\n",
    "TensorFlow or scikit-learn. It superseeds Azure ML Studio, which will be retired\n",
    "on August 31, 2024."
   ]
  },
  {
   "cell_type": "markdown",
   "metadata": {},
   "source": [
    "### Model and Data Versioning\n",
    "\n",
    "* **[DVC Data Version Control](https://dvc.org/)** Free Software (Apache 2.0\n",
    "Open Source License). Is a tool for data management, ML pipeline automation, and\n",
    "experiment management. Works as a git extension to manage data and models.\n",
    "* **[mlFlow](https://mlflow.org/)** Free Software (Apache 2.0 Open Source\n",
    "License). Platform to streamline machine learning development, including\n",
    "tracking experiments, packaging code into reproducible runs, and sharing and\n",
    "deploying models. MLflow offers a set of lightweight APIs that can be used with\n",
    "any existing machine learning application or library."
   ]
  },
  {
   "cell_type": "markdown",
   "metadata": {},
   "source": [
    "Back to intro...\n",
    "\n",
    "<div><a href=\"SKLearn-01_WhatIsML.ipynb\"><img src=\"img/open-notebook.png\" align=\"right\"/></a></div>"
   ]
  },
  {
   "cell_type": "markdown",
   "metadata": {},
   "source": [
    "\n",
    "---\n",
    "\n",
    "Materials licensed under [CC BY-NC-ND 4.0](https://creativecommons.org/licenses/by-nc-nd/4.0/) by the authors"
   ]
  }
 ],
 "metadata": {
  "kernelspec": {
   "display_name": "Python 3",
   "language": "python",
   "name": "python3"
  },
  "language_info": {
   "codemirror_mode": {
    "name": "ipython",
    "version": 3
   },
   "file_extension": ".py",
   "mimetype": "text/x-python",
   "name": "python",
   "nbconvert_exporter": "python",
   "pygments_lexer": "ipython3",
   "version": "3.7.7"
  }
 },
 "nbformat": 4,
 "nbformat_minor": 2
}
