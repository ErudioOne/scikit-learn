{
 "cells": [
  {
   "cell_type": "markdown",
   "metadata": {},
   "source": [
    "![Erudio logo](img/erudio-logo-small.png)\n",
    "---\n",
    "![Sklearn logo](img/scikit-learn-logo-small.png)"
   ]
  },
  {
   "cell_type": "markdown",
   "metadata": {
    "duration": "20 minutes"
   },
   "source": [
    "# Machine Learning with scikit-learn"
   ]
  },
  {
   "cell_type": "markdown",
   "metadata": {
    "duration": "20 minutes"
   },
   "source": [
    "## Resources\n",
    "\n",
    "This training material is available under a CC BY-NC-ND 4.0 license.  You can find it at:\n",
    "\n",
    "> https://github.com/ErudioOne/scikit-learn\n",
    "\n",
    "Before attending this course, please configure the environments you will need.  Within the repository, find the file `requirements.txt` to install software using `pip`, or the file `environment.yml` to install software using `conda`.\n",
    "\n",
    "Please contact us, [Erudio LLC](http://erudio.one) for hands-on, instructor-led, onsite or remote, training."
   ]
  },
  {
   "cell_type": "code",
   "execution_count": null,
   "metadata": {},
   "outputs": [],
   "source": [
    "import sys\n",
    "sys.version"
   ]
  },
  {
   "cell_type": "code",
   "execution_count": null,
   "metadata": {},
   "outputs": [],
   "source": [
    "import sklearn\n",
    "sklearn.__version__"
   ]
  },
  {
   "cell_type": "code",
   "execution_count": null,
   "metadata": {},
   "outputs": [],
   "source": [
    "try:\n",
    "    from sklearnex import patch_sklearn\n",
    "    patch_sklearn()\n",
    "except:\n",
    "    print(\"Intel accelerator not installed (not required)\", file=sys.stderr)"
   ]
  },
  {
   "cell_type": "markdown",
   "metadata": {},
   "source": [
    "## What Is Machine Learning?\n",
    "\n",
    "\n",
    "* Difference between \"Deep Learning\" and other ML techniques\n",
    "* Overview of techniques used in Machine Learning\n",
    "* Classification vs. Regression vs. Clustering\n",
    "* Dimensionality Reduction\n",
    "* Feature Engineering\n",
    "* Feature Selection\n",
    "* Categorical vs. Ordinal vs. Continuous variables\n",
    "* One-hot encoding\n",
    "* Hyperparameters\n",
    "* Grid Search\n",
    "* Metrics\n",
    "\n",
    "<div><a href=\"SKLearn-01_WhatIsML.ipynb\"><img src=\"img/open-notebook.png\" align=\"left\"/></a></div>"
   ]
  },
  {
   "cell_type": "markdown",
   "metadata": {},
   "source": [
    "## Exploring a Data Set\n",
    "\n",
    "* Looking for anomalies and data integrity problems\n",
    "* Cleaning data\n",
    "* Massaging data format to be model-ready\n",
    "* Choosing features and a target\n",
    "* Train/test split\n",
    "\n",
    "<div><a href=\"SKLearn-02_Exploring.ipynb\"><img src=\"img/open-notebook.png\" align=\"left\"/></a></div>"
   ]
  },
  {
   "cell_type": "markdown",
   "metadata": {},
   "source": [
    "## Classification\n",
    "\n",
    "* Choosing a model\n",
    "* Feature importances\n",
    "* Cut points in a decision tree\n",
    "* Comparing multiple classifiers\n",
    "\n",
    "<div><a href=\"SKLearn-03_Classification.ipynb\"><img src=\"img/open-notebook.png\" align=\"left\"/></a></div>"
   ]
  },
  {
   "cell_type": "markdown",
   "metadata": {},
   "source": [
    "## Regression\n",
    "\n",
    "* Sample data sets in scikit-learn\n",
    "* Linear regressors\n",
    "* Probabilistic regressors\n",
    "* Other regressors\n",
    "\n",
    "<div><a href=\"SKLearn-04_Regression.ipynb\"><img src=\"img/open-notebook.png\" align=\"left\"/></a></div>"
   ]
  },
  {
   "cell_type": "markdown",
   "metadata": {},
   "source": [
    "## Hyperparameters\n",
    "\n",
    "* Understanding hyperparameters\n",
    "* Manual search of parameter space\n",
    "* GridsearchCV\n",
    "* Attributes of grid search and wrapped model\n",
    "\n",
    "<div><a href=\"SKLearn-05_Hyperparameters.ipynb\"><img src=\"img/open-notebook.png\" align=\"left\"/></a></div>"
   ]
  },
  {
   "cell_type": "markdown",
   "metadata": {},
   "source": [
    "## Clustering\n",
    "\n",
    "* Overview of (some) clustering algorithms\n",
    "* Kmeans clustering\n",
    "* Agglomerative clustering\n",
    "* Density based clustering: DBSan and HDBScan\n",
    "* n_clusters, labels, and predictions\n",
    "* Visualizing results\n",
    "\n",
    "<div><a href=\"SKLearn-06_Clustering.ipynb\"><img src=\"img/open-notebook.png\" align=\"left\"/></a></div>"
   ]
  },
  {
   "cell_type": "markdown",
   "metadata": {},
   "source": [
    "## Decomposition\n",
    "* Principal Component Analysis (PCA)\n",
    "* Non-Negative Matrix Factorization (NMF)\n",
    "* Latent Dirichlet Allocation (LDA)\n",
    "* Independent component analysis (ICA)\n",
    "\n",
    "<div><a href=\"SKLearn-07_Decomposition.ipynb\"><img src=\"img/open-notebook.png\" align=\"left\"/></a></div>"
   ]
  },
  {
   "cell_type": "markdown",
   "metadata": {},
   "source": [
    "## Feature Expansion\n",
    "\n",
    "* A Synthetic Example\n",
    "* Polynomial Features\n",
    "* One-Hot Encoding\n",
    "* Binning Values\n",
    "\n",
    "<div><a href=\"SKLearn-08_FeatureExpansion.ipynb\"><img src=\"img/open-notebook.png\" align=\"left\"/></a></div>"
   ]
  },
  {
   "cell_type": "markdown",
   "metadata": {},
   "source": [
    "## Feature Selection\n",
    "\n",
    "* Scaling with:\n",
    "  * StandardScaler\n",
    "  * RobustScaler\n",
    "  * MinMaxScaler\n",
    "  * Normalizer\n",
    "* Univariate Selection\n",
    "* Model-driven Selection\n",
    "\n",
    "<div><a href=\"SKLearn-09_FeatureSelection.ipynb\"><img src=\"img/open-notebook.png\" align=\"left\"/></a></div>"
   ]
  },
  {
   "cell_type": "markdown",
   "metadata": {},
   "source": [
    "## Pipelines\n",
    "\n",
    "* Feature Selection and Engineering\n",
    "* Grid search\n",
    "* Model\n",
    "\n",
    "<div><a href=\"SKLearn-10_Pipelines.ipynb\"><img src=\"img/open-notebook.png\" align=\"left\"/></a></div>"
   ]
  },
  {
   "cell_type": "markdown",
   "metadata": {},
   "source": [
    "## Robust Train/Test Splits \n",
    "\n",
    "* cross_val_score\n",
    "* ShuffleSplit\n",
    "* KFold, RepeatedKFold, LeaveOneOut, LeavePOut, StratifiedKFold\n",
    "\n",
    "<div><a href=SKLearn-11_TrainTest.ipynb\"><img src=\"img/open-notebook.png\" align=\"left\"/></a></div>"
   ]
  },
  {
   "cell_type": "markdown",
   "metadata": {},
   "source": [
    "## Specialized and custom metrics\n",
    "\n",
    "* Top N recommendations\n",
    "\n",
    "<div><a href=\"SKLearn-12_CustomMetrics.ipynb\"><img src=\"img/open-notebook.png\" align=\"left\"/></a></div>"
   ]
  },
  {
   "cell_type": "markdown",
   "metadata": {},
   "source": [
    "\n",
    "---\n",
    "\n",
    "Materials licensed under [CC BY-NC-ND 4.0](https://creativecommons.org/licenses/by-nc-nd/4.0/) by the authors"
   ]
  }
 ],
 "metadata": {
  "kernelspec": {
   "display_name": "Python 3 (ipykernel)",
   "language": "python",
   "name": "python3"
  },
  "language_info": {
   "codemirror_mode": {
    "name": "ipython",
    "version": 3
   },
   "file_extension": ".py",
   "mimetype": "text/x-python",
   "name": "python",
   "nbconvert_exporter": "python",
   "pygments_lexer": "ipython3",
   "version": "3.12.1"
  }
 },
 "nbformat": 4,
 "nbformat_minor": 4
}
